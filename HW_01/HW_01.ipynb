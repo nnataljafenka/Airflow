{
 "cells": [
  {
   "cell_type": "markdown",
   "id": "general-legislature",
   "metadata": {},
   "source": [
    "## Домашнее задание № 1  "
   ]
  },
  {
   "cell_type": "markdown",
   "id": "intellectual-miami",
   "metadata": {},
   "source": [
    "__1.__ Какой из флагов утилиты crontab покажет список существующих кронов?\n",
    "\n",
    "Ответ: crontab -l"
   ]
  },
  {
   "cell_type": "markdown",
   "id": "regional-emission",
   "metadata": {},
   "source": [
    "__2.__ Напишите крон, который будет запускаться каждую пятницу в 9 часов вечера.\n",
    "\n",
    "Ответ: 0 21 * * 5 <исполняемая-команда>"
   ]
  },
  {
   "cell_type": "markdown",
   "id": "arbitrary-authorization",
   "metadata": {},
   "source": [
    "__3.__ Напишите крон, который будет запускаться каждое воскресенье марта месяца на протяжении всего дня с интервалом в 4 часа (т.е. запуск будет в 2021-03-07 00:00:00, затем 2021-03-07 04:00:00 и т.д.)\n",
    "\n",
    "Ответ: 0 */4 * 3 */7 <исполняемая-команда>"
   ]
  },
  {
   "cell_type": "markdown",
   "id": "cardiac-consciousness",
   "metadata": {},
   "source": [
    "__4.__ Отметьте все картинки, где изображен направленный ациклический граф.\n",
    "\n",
    "<img src=\"../images/1/dag_question.png\" style=\"width: 500px;\"> \n",
    "\n",
    "Ответ: 1, 3 (если стрелочки дорисовать)"
   ]
  },
  {
   "cell_type": "markdown",
   "id": "quantitative-exploration",
   "metadata": {},
   "source": [
    "__5.__ Опишите своими словами, как Вы поняли, чем отличается task от operator?\n",
    "\n",
    "Ответ: Операторы запускают задачи, а задачи это определённая последовательность действий в виде скрипта или какой-либо функции. Рекомендованный подход одним оператором выполнять один таск"
   ]
  }
 ],
 "metadata": {
  "kernelspec": {
   "display_name": "Python 3",
   "language": "python",
   "name": "python3"
  },
  "language_info": {
   "codemirror_mode": {
    "name": "ipython",
    "version": 3
   },
   "file_extension": ".py",
   "mimetype": "text/x-python",
   "name": "python",
   "nbconvert_exporter": "python",
   "pygments_lexer": "ipython3",
   "version": "3.8.5"
  }
 },
 "nbformat": 4,
 "nbformat_minor": 5
}
